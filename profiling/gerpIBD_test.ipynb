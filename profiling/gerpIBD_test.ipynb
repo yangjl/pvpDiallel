{
 "cells": [
  {
   "cell_type": "code",
   "execution_count": 1,
   "metadata": {
    "collapsed": true
   },
   "outputs": [],
   "source": [
    "#!/usr/bin/env python\n",
    "\n",
    "from __future__ import print_function\n",
    "from __future__ import division\n",
    "import pandas as pd\n",
    "import numpy as np\n",
    "import sys\n",
    "import argparse\n",
    "import textwrap\n",
    "import timeit\n",
    "import os"
   ]
  },
  {
   "cell_type": "code",
   "execution_count": 2,
   "metadata": {
    "collapsed": true
   },
   "outputs": [],
   "source": [
    "def readData(bedfile=\"largedata/IBD/allsnps_11m_IBD.bed\", \n",
    "             gerpfile=\"largedata/SNP/gerpv2_b0_real.csv\", \n",
    "             dsffile=\"largedata/SNP/allsnps_11m.dsf5\",\n",
    "             hfile=\"largedata/snpeff/gy_h.txt\",\n",
    "             gerppositive=\"positive\"):\n",
    "  ### read.table\n",
    "  snpibd = pd.read_table(bedfile, sep=\"\\t\", header= None)\n",
    "  gerp = pd.read_csv(gerpfile)\n",
    "  dsf7 = pd.read_table(dsffile, sep=\"\\t\")\n",
    "  h = pd.read_table(hfile, sep=\"\\t\")\n",
    "  \n",
    "  ### merge gerp with h\n",
    "  gerph = pd.merge(gerp, h, on='snpid', sort=False, how=\"inner\")\n",
    "  \n",
    "  ### replace = gsub\n",
    "  snpibd[3].replace(\"chr\", \"\", regex=True, inplace=True)\n",
    "\n",
    "  ### paste\n",
    "  snpibd['snpid'] = snpibd[3].map(str) + \"_\" + snpibd[2].map(str)\n",
    "  snpibd['ibdid'] = snpibd[3].map(str) + \"_\" + snpibd[4].map(str)\n",
    "\n",
    "  ### merge SNPs with positive GERP H score\n",
    "  snpibd = pd.merge(snpibd, gerph[[\"snpid\", \"RS\", \"h\"]], on='snpid', sort=False, how='inner')\n",
    "  if gerppositive == \"positive\":\n",
    "    snp0 = snpibd[snpibd['RS']>0]\n",
    "  else:\n",
    "    snp0 = snpibd\n",
    "\n",
    "  ### check how many SNP per IBD block ###\n",
    "  ibd0 = snp0.groupby('ibdid').size()\n",
    "  #len(ibd0)\n",
    "  #Out[16]: 85388\n",
    "\n",
    "  ### GERP>0 merged with dsf7, dsf7 without B73 missing!\n",
    "  dsf7 = dsf7[dsf7['B73'] != 'N']\n",
    "  ibddsf = pd.merge(snp0, dsf7.iloc[:,np.r_[0, 7:19]], on=\"snpid\", sort=False, how=\"inner\")\n",
    "  return ibddsf\n"
   ]
  },
  {
   "cell_type": "code",
   "execution_count": 3,
   "metadata": {
    "collapsed": true
   },
   "outputs": [],
   "source": [
    "bedfile=\"largedata/IBD/allsnps_11m_IBD.bed\""
   ]
  },
  {
   "cell_type": "code",
   "execution_count": 4,
   "metadata": {
    "collapsed": false
   },
   "outputs": [
    {
     "data": {
      "text/plain": [
       "u'/home/jolyang/Documents/Github/pvpDiallel/profiling'"
      ]
     },
     "execution_count": 4,
     "metadata": {},
     "output_type": "execute_result"
    }
   ],
   "source": [
    "pwd"
   ]
  },
  {
   "cell_type": "code",
   "execution_count": 5,
   "metadata": {
    "collapsed": true
   },
   "outputs": [],
   "source": [
    "os.chdir(\"/home/jolyang/Documents/Github/pvpDiallel\")"
   ]
  },
  {
   "cell_type": "code",
   "execution_count": 6,
   "metadata": {
    "collapsed": false
   },
   "outputs": [
    {
     "data": {
      "text/plain": [
       "u'/home/jolyang/Documents/Github/pvpDiallel'"
      ]
     },
     "execution_count": 6,
     "metadata": {},
     "output_type": "execute_result"
    }
   ],
   "source": [
    "pwd"
   ]
  },
  {
   "cell_type": "code",
   "execution_count": 7,
   "metadata": {
    "collapsed": true
   },
   "outputs": [],
   "source": [
    "hfile=\"largedata/snpeff/gy_k.txt\""
   ]
  },
  {
   "cell_type": "code",
   "execution_count": 8,
   "metadata": {
    "collapsed": true
   },
   "outputs": [],
   "source": [
    "gerpfile=\"largedata/SNP/allsnps_11m.dsf5\""
   ]
  },
  {
   "cell_type": "code",
   "execution_count": 9,
   "metadata": {
    "collapsed": true
   },
   "outputs": [],
   "source": [
    "gerpfile=\"largedata/SNP/geno_b0_cs/gerpv2_b0_cs0.csv\""
   ]
  },
  {
   "cell_type": "code",
   "execution_count": 10,
   "metadata": {
    "collapsed": true
   },
   "outputs": [],
   "source": [
    "dsffile=\"largedata/SNP/allsnps_11m.dsf5\""
   ]
  },
  {
   "cell_type": "code",
   "execution_count": 11,
   "metadata": {
    "collapsed": false
   },
   "outputs": [
    {
     "ename": "IndentationError",
     "evalue": "unexpected indent (<ipython-input-11-c5fd86da874c>, line 2)",
     "output_type": "error",
     "traceback": [
      "\u001b[1;36m  File \u001b[1;32m\"<ipython-input-11-c5fd86da874c>\"\u001b[1;36m, line \u001b[1;32m2\u001b[0m\n\u001b[1;33m    snpibd = pd.read_table(bedfile, sep=\"\\t\", header= None)\u001b[0m\n\u001b[1;37m    ^\u001b[0m\n\u001b[1;31mIndentationError\u001b[0m\u001b[1;31m:\u001b[0m unexpected indent\n"
     ]
    }
   ],
   "source": [
    "### read.table\n",
    "  snpibd = pd.read_table(bedfile, sep=\"\\t\", header= None)\n",
    "  gerp = pd.read_csv(gerpfile)\n",
    "  dsf7 = pd.read_table(dsffile, sep=\"\\t\")\n",
    "  h = pd.read_table(hfile, sep=\"\\t\")"
   ]
  },
  {
   "cell_type": "code",
   "execution_count": 12,
   "metadata": {
    "collapsed": true
   },
   "outputs": [],
   "source": [
    "snpibd = pd.read_table(bedfile, sep=\"\\t\", header= None)"
   ]
  },
  {
   "cell_type": "code",
   "execution_count": 13,
   "metadata": {
    "collapsed": false
   },
   "outputs": [
    {
     "ename": "NameError",
     "evalue": "name 'snpidb' is not defined",
     "output_type": "error",
     "traceback": [
      "\u001b[1;31m---------------------------------------------------------------------------\u001b[0m",
      "\u001b[1;31mNameError\u001b[0m                                 Traceback (most recent call last)",
      "\u001b[1;32m<ipython-input-13-306598aff29a>\u001b[0m in \u001b[0;36m<module>\u001b[1;34m()\u001b[0m\n\u001b[1;32m----> 1\u001b[1;33m \u001b[0mlen\u001b[0m\u001b[1;33m(\u001b[0m\u001b[0msnpidb\u001b[0m\u001b[1;33m)\u001b[0m\u001b[1;33m\u001b[0m\u001b[0m\n\u001b[0m",
      "\u001b[1;31mNameError\u001b[0m: name 'snpidb' is not defined"
     ]
    }
   ],
   "source": [
    "len(snpidb)"
   ]
  },
  {
   "cell_type": "code",
   "execution_count": 14,
   "metadata": {
    "collapsed": false
   },
   "outputs": [
    {
     "ename": "NameError",
     "evalue": "name 'snpid' is not defined",
     "output_type": "error",
     "traceback": [
      "\u001b[1;31m---------------------------------------------------------------------------\u001b[0m",
      "\u001b[1;31mNameError\u001b[0m                                 Traceback (most recent call last)",
      "\u001b[1;32m<ipython-input-14-a1353b3cde26>\u001b[0m in \u001b[0;36m<module>\u001b[1;34m()\u001b[0m\n\u001b[1;32m----> 1\u001b[1;33m \u001b[0msnpid\u001b[0m\u001b[1;33m.\u001b[0m\u001b[0mhead\u001b[0m\u001b[1;33m(\u001b[0m\u001b[1;33m)\u001b[0m\u001b[1;33m\u001b[0m\u001b[0m\n\u001b[0m",
      "\u001b[1;31mNameError\u001b[0m: name 'snpid' is not defined"
     ]
    }
   ],
   "source": [
    "snpid.head()"
   ]
  },
  {
   "cell_type": "code",
   "execution_count": 15,
   "metadata": {
    "collapsed": false
   },
   "outputs": [
    {
     "data": {
      "text/html": [
       "<div style=\"max-height:1000px;max-width:1500px;overflow:auto;\">\n",
       "<table border=\"1\" class=\"dataframe\">\n",
       "  <thead>\n",
       "    <tr style=\"text-align: right;\">\n",
       "      <th></th>\n",
       "      <th>0</th>\n",
       "      <th>1</th>\n",
       "      <th>2</th>\n",
       "      <th>3</th>\n",
       "      <th>4</th>\n",
       "      <th>5</th>\n",
       "    </tr>\n",
       "  </thead>\n",
       "  <tbody>\n",
       "    <tr>\n",
       "      <th>0</th>\n",
       "      <td> chr1</td>\n",
       "      <td>  716</td>\n",
       "      <td>  717</td>\n",
       "      <td> chr1</td>\n",
       "      <td>  15</td>\n",
       "      <td>   717</td>\n",
       "    </tr>\n",
       "    <tr>\n",
       "      <th>1</th>\n",
       "      <td> chr1</td>\n",
       "      <td>  882</td>\n",
       "      <td>  883</td>\n",
       "      <td> chr1</td>\n",
       "      <td> 717</td>\n",
       "      <td> 68298</td>\n",
       "    </tr>\n",
       "    <tr>\n",
       "      <th>2</th>\n",
       "      <td> chr1</td>\n",
       "      <td> 2110</td>\n",
       "      <td> 2111</td>\n",
       "      <td> chr1</td>\n",
       "      <td> 717</td>\n",
       "      <td> 68298</td>\n",
       "    </tr>\n",
       "    <tr>\n",
       "      <th>3</th>\n",
       "      <td> chr1</td>\n",
       "      <td> 3497</td>\n",
       "      <td> 3498</td>\n",
       "      <td> chr1</td>\n",
       "      <td> 717</td>\n",
       "      <td> 68298</td>\n",
       "    </tr>\n",
       "    <tr>\n",
       "      <th>4</th>\n",
       "      <td> chr1</td>\n",
       "      <td> 3817</td>\n",
       "      <td> 3818</td>\n",
       "      <td> chr1</td>\n",
       "      <td> 717</td>\n",
       "      <td> 68298</td>\n",
       "    </tr>\n",
       "  </tbody>\n",
       "</table>\n",
       "</div>"
      ],
      "text/plain": [
       "      0     1     2     3    4      5\n",
       "0  chr1   716   717  chr1   15    717\n",
       "1  chr1   882   883  chr1  717  68298\n",
       "2  chr1  2110  2111  chr1  717  68298\n",
       "3  chr1  3497  3498  chr1  717  68298\n",
       "4  chr1  3817  3818  chr1  717  68298"
      ]
     },
     "execution_count": 15,
     "metadata": {},
     "output_type": "execute_result"
    }
   ],
   "source": [
    "snpibd.head()"
   ]
  },
  {
   "cell_type": "code",
   "execution_count": 16,
   "metadata": {
    "collapsed": false
   },
   "outputs": [
    {
     "data": {
      "text/html": [
       "<div style=\"max-height:1000px;max-width:1500px;overflow:auto;\">\n",
       "<table border=\"1\" class=\"dataframe\">\n",
       "  <thead>\n",
       "    <tr style=\"text-align: right;\">\n",
       "      <th></th>\n",
       "      <th>0</th>\n",
       "      <th>1</th>\n",
       "      <th>2</th>\n",
       "      <th>3</th>\n",
       "      <th>4</th>\n",
       "      <th>5</th>\n",
       "    </tr>\n",
       "  </thead>\n",
       "  <tbody>\n",
       "    <tr>\n",
       "      <th>11348657</th>\n",
       "      <td> chr10</td>\n",
       "      <td> 150187518</td>\n",
       "      <td> 150187519</td>\n",
       "      <td> chr10</td>\n",
       "      <td> 150180320</td>\n",
       "      <td> 150188499</td>\n",
       "    </tr>\n",
       "    <tr>\n",
       "      <th>11348658</th>\n",
       "      <td> chr10</td>\n",
       "      <td> 150187553</td>\n",
       "      <td> 150187554</td>\n",
       "      <td> chr10</td>\n",
       "      <td> 150180320</td>\n",
       "      <td> 150188499</td>\n",
       "    </tr>\n",
       "    <tr>\n",
       "      <th>11348659</th>\n",
       "      <td> chr10</td>\n",
       "      <td> 150187568</td>\n",
       "      <td> 150187569</td>\n",
       "      <td> chr10</td>\n",
       "      <td> 150180320</td>\n",
       "      <td> 150188499</td>\n",
       "    </tr>\n",
       "    <tr>\n",
       "      <th>11348660</th>\n",
       "      <td> chr10</td>\n",
       "      <td> 150188123</td>\n",
       "      <td> 150188124</td>\n",
       "      <td> chr10</td>\n",
       "      <td> 150180320</td>\n",
       "      <td> 150188499</td>\n",
       "    </tr>\n",
       "    <tr>\n",
       "      <th>11348661</th>\n",
       "      <td> chr10</td>\n",
       "      <td> 150188498</td>\n",
       "      <td> 150188499</td>\n",
       "      <td> chr10</td>\n",
       "      <td> 150180320</td>\n",
       "      <td> 150188499</td>\n",
       "    </tr>\n",
       "  </tbody>\n",
       "</table>\n",
       "</div>"
      ],
      "text/plain": [
       "              0          1          2      3          4          5\n",
       "11348657  chr10  150187518  150187519  chr10  150180320  150188499\n",
       "11348658  chr10  150187553  150187554  chr10  150180320  150188499\n",
       "11348659  chr10  150187568  150187569  chr10  150180320  150188499\n",
       "11348660  chr10  150188123  150188124  chr10  150180320  150188499\n",
       "11348661  chr10  150188498  150188499  chr10  150180320  150188499"
      ]
     },
     "execution_count": 16,
     "metadata": {},
     "output_type": "execute_result"
    }
   ],
   "source": [
    "snpibd.tail()"
   ]
  },
  {
   "cell_type": "code",
   "execution_count": 17,
   "metadata": {
    "collapsed": true
   },
   "outputs": [],
   "source": [
    "gerp = pd.read_csv(gerpfile)"
   ]
  },
  {
   "cell_type": "code",
   "execution_count": 18,
   "metadata": {
    "collapsed": false
   },
   "outputs": [
    {
     "data": {
      "text/plain": [
       "506898"
      ]
     },
     "execution_count": 18,
     "metadata": {},
     "output_type": "execute_result"
    }
   ],
   "source": [
    "len(gerp)"
   ]
  },
  {
   "cell_type": "code",
   "execution_count": 19,
   "metadata": {
    "collapsed": false
   },
   "outputs": [
    {
     "data": {
      "text/html": [
       "<div style=\"max-height:1000px;max-width:1500px;overflow:auto;\">\n",
       "<table border=\"1\" class=\"dataframe\">\n",
       "  <thead>\n",
       "    <tr style=\"text-align: right;\">\n",
       "      <th></th>\n",
       "      <th>snpid</th>\n",
       "      <th>N</th>\n",
       "      <th>RS</th>\n",
       "      <th>chr</th>\n",
       "      <th>pos</th>\n",
       "    </tr>\n",
       "  </thead>\n",
       "  <tbody>\n",
       "    <tr>\n",
       "      <th>0</th>\n",
       "      <td>    1_15</td>\n",
       "      <td> 2.280</td>\n",
       "      <td> 1.160</td>\n",
       "      <td> 1</td>\n",
       "      <td>    15</td>\n",
       "    </tr>\n",
       "    <tr>\n",
       "      <th>1</th>\n",
       "      <td>   1_717</td>\n",
       "      <td> 0.847</td>\n",
       "      <td> 0.847</td>\n",
       "      <td> 1</td>\n",
       "      <td>   717</td>\n",
       "    </tr>\n",
       "    <tr>\n",
       "      <th>2</th>\n",
       "      <td>   1_883</td>\n",
       "      <td> 2.280</td>\n",
       "      <td> 2.280</td>\n",
       "      <td> 1</td>\n",
       "      <td>   883</td>\n",
       "    </tr>\n",
       "    <tr>\n",
       "      <th>3</th>\n",
       "      <td>  1_9344</td>\n",
       "      <td> 2.280</td>\n",
       "      <td> 1.160</td>\n",
       "      <td> 1</td>\n",
       "      <td>  9344</td>\n",
       "    </tr>\n",
       "    <tr>\n",
       "      <th>4</th>\n",
       "      <td> 1_93056</td>\n",
       "      <td> 1.360</td>\n",
       "      <td> 0.185</td>\n",
       "      <td> 1</td>\n",
       "      <td> 93056</td>\n",
       "    </tr>\n",
       "  </tbody>\n",
       "</table>\n",
       "</div>"
      ],
      "text/plain": [
       "     snpid      N     RS  chr    pos\n",
       "0     1_15  2.280  1.160    1     15\n",
       "1    1_717  0.847  0.847    1    717\n",
       "2    1_883  2.280  2.280    1    883\n",
       "3   1_9344  2.280  1.160    1   9344\n",
       "4  1_93056  1.360  0.185    1  93056"
      ]
     },
     "execution_count": 19,
     "metadata": {},
     "output_type": "execute_result"
    }
   ],
   "source": [
    "gerp.head()"
   ]
  },
  {
   "cell_type": "code",
   "execution_count": 20,
   "metadata": {
    "collapsed": true
   },
   "outputs": [],
   "source": [
    "dsf7 = pd.read_table(dsffile, sep=\"\\t\")"
   ]
  },
  {
   "cell_type": "code",
   "execution_count": 21,
   "metadata": {
    "collapsed": false
   },
   "outputs": [
    {
     "data": {
      "text/plain": [
       "11051839"
      ]
     },
     "execution_count": 21,
     "metadata": {},
     "output_type": "execute_result"
    }
   ],
   "source": [
    "len(dsf7)"
   ]
  },
  {
   "cell_type": "code",
   "execution_count": 22,
   "metadata": {
    "collapsed": false
   },
   "outputs": [
    {
     "data": {
      "text/html": [
       "<div style=\"max-height:1000px;max-width:1500px;overflow:auto;\">\n",
       "<table border=\"1\" class=\"dataframe\">\n",
       "  <thead>\n",
       "    <tr style=\"text-align: right;\">\n",
       "      <th></th>\n",
       "      <th>snpid</th>\n",
       "      <th>chr</th>\n",
       "      <th>pos</th>\n",
       "      <th>major</th>\n",
       "      <th>minor</th>\n",
       "      <th>MAF</th>\n",
       "      <th>missing</th>\n",
       "      <th>B73</th>\n",
       "      <th>LH1</th>\n",
       "      <th>MO17</th>\n",
       "      <th>PHG35</th>\n",
       "      <th>PHG47</th>\n",
       "      <th>PHJ40</th>\n",
       "      <th>LH123HT</th>\n",
       "      <th>LH82</th>\n",
       "      <th>PH207</th>\n",
       "      <th>PHG39</th>\n",
       "      <th>PHG84</th>\n",
       "      <th>PHZ51</th>\n",
       "    </tr>\n",
       "  </thead>\n",
       "  <tbody>\n",
       "    <tr>\n",
       "      <th>0</th>\n",
       "      <td>   1_15</td>\n",
       "      <td> 1</td>\n",
       "      <td>   15</td>\n",
       "      <td> A</td>\n",
       "      <td> G</td>\n",
       "      <td> 0.167</td>\n",
       "      <td> 0</td>\n",
       "      <td> A</td>\n",
       "      <td> A</td>\n",
       "      <td> G</td>\n",
       "      <td> A</td>\n",
       "      <td> A</td>\n",
       "      <td> A</td>\n",
       "      <td> A</td>\n",
       "      <td> A</td>\n",
       "      <td> A</td>\n",
       "      <td> A</td>\n",
       "      <td> A</td>\n",
       "      <td> G</td>\n",
       "    </tr>\n",
       "    <tr>\n",
       "      <th>1</th>\n",
       "      <td>  1_717</td>\n",
       "      <td> 1</td>\n",
       "      <td>  717</td>\n",
       "      <td> A</td>\n",
       "      <td> G</td>\n",
       "      <td> 0.167</td>\n",
       "      <td> 0</td>\n",
       "      <td> A</td>\n",
       "      <td> A</td>\n",
       "      <td> G</td>\n",
       "      <td> A</td>\n",
       "      <td> A</td>\n",
       "      <td> A</td>\n",
       "      <td> A</td>\n",
       "      <td> A</td>\n",
       "      <td> A</td>\n",
       "      <td> A</td>\n",
       "      <td> A</td>\n",
       "      <td> G</td>\n",
       "    </tr>\n",
       "    <tr>\n",
       "      <th>2</th>\n",
       "      <td>  1_883</td>\n",
       "      <td> 1</td>\n",
       "      <td>  883</td>\n",
       "      <td> A</td>\n",
       "      <td> G</td>\n",
       "      <td> 0.167</td>\n",
       "      <td> 0</td>\n",
       "      <td> A</td>\n",
       "      <td> A</td>\n",
       "      <td> G</td>\n",
       "      <td> A</td>\n",
       "      <td> A</td>\n",
       "      <td> A</td>\n",
       "      <td> A</td>\n",
       "      <td> A</td>\n",
       "      <td> A</td>\n",
       "      <td> A</td>\n",
       "      <td> A</td>\n",
       "      <td> G</td>\n",
       "    </tr>\n",
       "    <tr>\n",
       "      <th>3</th>\n",
       "      <td> 1_2111</td>\n",
       "      <td> 1</td>\n",
       "      <td> 2111</td>\n",
       "      <td> C</td>\n",
       "      <td> T</td>\n",
       "      <td> 0.167</td>\n",
       "      <td> 0</td>\n",
       "      <td> C</td>\n",
       "      <td> C</td>\n",
       "      <td> T</td>\n",
       "      <td> C</td>\n",
       "      <td> C</td>\n",
       "      <td> C</td>\n",
       "      <td> C</td>\n",
       "      <td> C</td>\n",
       "      <td> C</td>\n",
       "      <td> C</td>\n",
       "      <td> C</td>\n",
       "      <td> T</td>\n",
       "    </tr>\n",
       "    <tr>\n",
       "      <th>4</th>\n",
       "      <td> 1_3498</td>\n",
       "      <td> 1</td>\n",
       "      <td> 3498</td>\n",
       "      <td> G</td>\n",
       "      <td> A</td>\n",
       "      <td> 0.333</td>\n",
       "      <td> 0</td>\n",
       "      <td> A</td>\n",
       "      <td> G</td>\n",
       "      <td> G</td>\n",
       "      <td> G</td>\n",
       "      <td> A</td>\n",
       "      <td> A</td>\n",
       "      <td> A</td>\n",
       "      <td> G</td>\n",
       "      <td> G</td>\n",
       "      <td> G</td>\n",
       "      <td> G</td>\n",
       "      <td> G</td>\n",
       "    </tr>\n",
       "  </tbody>\n",
       "</table>\n",
       "</div>"
      ],
      "text/plain": [
       "    snpid  chr   pos major minor    MAF  missing B73 LH1 MO17 PHG35 PHG47  \\\n",
       "0    1_15    1    15     A     G  0.167        0   A   A    G     A     A   \n",
       "1   1_717    1   717     A     G  0.167        0   A   A    G     A     A   \n",
       "2   1_883    1   883     A     G  0.167        0   A   A    G     A     A   \n",
       "3  1_2111    1  2111     C     T  0.167        0   C   C    T     C     C   \n",
       "4  1_3498    1  3498     G     A  0.333        0   A   G    G     G     A   \n",
       "\n",
       "  PHJ40 LH123HT LH82 PH207 PHG39 PHG84 PHZ51  \n",
       "0     A       A    A     A     A     A     G  \n",
       "1     A       A    A     A     A     A     G  \n",
       "2     A       A    A     A     A     A     G  \n",
       "3     C       C    C     C     C     C     T  \n",
       "4     A       A    G     G     G     G     G  "
      ]
     },
     "execution_count": 22,
     "metadata": {},
     "output_type": "execute_result"
    }
   ],
   "source": [
    "dsf7.head()"
   ]
  },
  {
   "cell_type": "code",
   "execution_count": 27,
   "metadata": {
    "collapsed": false
   },
   "outputs": [],
   "source": [
    "h = pd.read_table(hfile, sep=\"\\t\")"
   ]
  },
  {
   "cell_type": "code",
   "execution_count": 32,
   "metadata": {
    "collapsed": false
   },
   "outputs": [
    {
     "data": {
      "text/html": [
       "<div style=\"max-height:1000px;max-width:1500px;overflow:auto;\">\n",
       "<table border=\"1\" class=\"dataframe\">\n",
       "  <thead>\n",
       "    <tr style=\"text-align: right;\">\n",
       "      <th></th>\n",
       "      <th>snpid</th>\n",
       "      <th>h</th>\n",
       "    </tr>\n",
       "  </thead>\n",
       "  <tbody>\n",
       "    <tr>\n",
       "      <th>0</th>\n",
       "      <td> 10_626964</td>\n",
       "      <td> 0.845306</td>\n",
       "    </tr>\n",
       "    <tr>\n",
       "      <th>1</th>\n",
       "      <td> 10_630783</td>\n",
       "      <td> 1.114887</td>\n",
       "    </tr>\n",
       "    <tr>\n",
       "      <th>2</th>\n",
       "      <td> 10_632233</td>\n",
       "      <td> 1.436512</td>\n",
       "    </tr>\n",
       "    <tr>\n",
       "      <th>3</th>\n",
       "      <td> 10_632665</td>\n",
       "      <td>-2.000000</td>\n",
       "    </tr>\n",
       "    <tr>\n",
       "      <th>4</th>\n",
       "      <td> 10_634437</td>\n",
       "      <td> 1.976889</td>\n",
       "    </tr>\n",
       "  </tbody>\n",
       "</table>\n",
       "</div>"
      ],
      "text/plain": [
       "       snpid         h\n",
       "0  10_626964  0.845306\n",
       "1  10_630783  1.114887\n",
       "2  10_632233  1.436512\n",
       "3  10_632665 -2.000000\n",
       "4  10_634437  1.976889"
      ]
     },
     "execution_count": 32,
     "metadata": {},
     "output_type": "execute_result"
    }
   ],
   "source": [
    "h.head()"
   ]
  },
  {
   "cell_type": "code",
   "execution_count": 25,
   "metadata": {
    "collapsed": true
   },
   "outputs": [],
   "source": [
    "hfile = \"largedata/snpeff/perse/gy_k.txt\""
   ]
  },
  {
   "cell_type": "code",
   "execution_count": 33,
   "metadata": {
    "collapsed": false
   },
   "outputs": [],
   "source": [
    "### merge gerp with h\n",
    "gerph = pd.merge(gerp, h, on='snpid', sort=False, how=\"inner\")"
   ]
  },
  {
   "cell_type": "code",
   "execution_count": 34,
   "metadata": {
    "collapsed": false
   },
   "outputs": [
    {
     "data": {
      "text/html": [
       "<div style=\"max-height:1000px;max-width:1500px;overflow:auto;\">\n",
       "<table border=\"1\" class=\"dataframe\">\n",
       "  <thead>\n",
       "    <tr style=\"text-align: right;\">\n",
       "      <th></th>\n",
       "      <th>snpid</th>\n",
       "      <th>N</th>\n",
       "      <th>RS</th>\n",
       "      <th>chr</th>\n",
       "      <th>pos</th>\n",
       "      <th>h</th>\n",
       "    </tr>\n",
       "  </thead>\n",
       "  <tbody>\n",
       "    <tr>\n",
       "      <th>0</th>\n",
       "      <td>   1_9344</td>\n",
       "      <td> 2.280</td>\n",
       "      <td> 1.160</td>\n",
       "      <td> 1</td>\n",
       "      <td>   9344</td>\n",
       "      <td>-2.000000</td>\n",
       "    </tr>\n",
       "    <tr>\n",
       "      <th>1</th>\n",
       "      <td>  1_93254</td>\n",
       "      <td> 0.847</td>\n",
       "      <td> 0.847</td>\n",
       "      <td> 1</td>\n",
       "      <td>  93254</td>\n",
       "      <td>-1.612049</td>\n",
       "    </tr>\n",
       "    <tr>\n",
       "      <th>2</th>\n",
       "      <td> 1_109477</td>\n",
       "      <td> 0.847</td>\n",
       "      <td> 0.847</td>\n",
       "      <td> 1</td>\n",
       "      <td> 109477</td>\n",
       "      <td> 1.786386</td>\n",
       "    </tr>\n",
       "    <tr>\n",
       "      <th>3</th>\n",
       "      <td> 1_110070</td>\n",
       "      <td> 1.090</td>\n",
       "      <td> 1.090</td>\n",
       "      <td> 1</td>\n",
       "      <td> 110070</td>\n",
       "      <td>-1.612049</td>\n",
       "    </tr>\n",
       "    <tr>\n",
       "      <th>4</th>\n",
       "      <td> 1_146576</td>\n",
       "      <td> 2.280</td>\n",
       "      <td> 2.280</td>\n",
       "      <td> 1</td>\n",
       "      <td> 146576</td>\n",
       "      <td>-0.245392</td>\n",
       "    </tr>\n",
       "  </tbody>\n",
       "</table>\n",
       "</div>"
      ],
      "text/plain": [
       "      snpid      N     RS  chr     pos         h\n",
       "0    1_9344  2.280  1.160    1    9344 -2.000000\n",
       "1   1_93254  0.847  0.847    1   93254 -1.612049\n",
       "2  1_109477  0.847  0.847    1  109477  1.786386\n",
       "3  1_110070  1.090  1.090    1  110070 -1.612049\n",
       "4  1_146576  2.280  2.280    1  146576 -0.245392"
      ]
     },
     "execution_count": 34,
     "metadata": {},
     "output_type": "execute_result"
    }
   ],
   "source": [
    "gerph.head()"
   ]
  },
  {
   "cell_type": "code",
   "execution_count": 35,
   "metadata": {
    "collapsed": true
   },
   "outputs": [],
   "source": [
    "snpibd[3].replace(\"chr\", \"\", regex=True, inplace=True)"
   ]
  },
  {
   "cell_type": "code",
   "execution_count": 36,
   "metadata": {
    "collapsed": true
   },
   "outputs": [],
   "source": [
    "snpibd['snpid'] = snpibd[3].map(str) + \"_\" + snpibd[2].map(str)"
   ]
  },
  {
   "cell_type": "code",
   "execution_count": 37,
   "metadata": {
    "collapsed": true
   },
   "outputs": [],
   "source": [
    "snpibd['ibdid'] = snpibd[3].map(str) + \"_\" + snpibd[4].map(str)"
   ]
  },
  {
   "cell_type": "code",
   "execution_count": 38,
   "metadata": {
    "collapsed": false
   },
   "outputs": [
    {
     "data": {
      "text/html": [
       "<div style=\"max-height:1000px;max-width:1500px;overflow:auto;\">\n",
       "<table border=\"1\" class=\"dataframe\">\n",
       "  <thead>\n",
       "    <tr style=\"text-align: right;\">\n",
       "      <th></th>\n",
       "      <th>0</th>\n",
       "      <th>1</th>\n",
       "      <th>2</th>\n",
       "      <th>3</th>\n",
       "      <th>4</th>\n",
       "      <th>5</th>\n",
       "      <th>snpid</th>\n",
       "      <th>ibdid</th>\n",
       "    </tr>\n",
       "  </thead>\n",
       "  <tbody>\n",
       "    <tr>\n",
       "      <th>0</th>\n",
       "      <td> chr1</td>\n",
       "      <td>  716</td>\n",
       "      <td>  717</td>\n",
       "      <td> 1</td>\n",
       "      <td>  15</td>\n",
       "      <td>   717</td>\n",
       "      <td>  1_717</td>\n",
       "      <td>  1_15</td>\n",
       "    </tr>\n",
       "    <tr>\n",
       "      <th>1</th>\n",
       "      <td> chr1</td>\n",
       "      <td>  882</td>\n",
       "      <td>  883</td>\n",
       "      <td> 1</td>\n",
       "      <td> 717</td>\n",
       "      <td> 68298</td>\n",
       "      <td>  1_883</td>\n",
       "      <td> 1_717</td>\n",
       "    </tr>\n",
       "    <tr>\n",
       "      <th>2</th>\n",
       "      <td> chr1</td>\n",
       "      <td> 2110</td>\n",
       "      <td> 2111</td>\n",
       "      <td> 1</td>\n",
       "      <td> 717</td>\n",
       "      <td> 68298</td>\n",
       "      <td> 1_2111</td>\n",
       "      <td> 1_717</td>\n",
       "    </tr>\n",
       "    <tr>\n",
       "      <th>3</th>\n",
       "      <td> chr1</td>\n",
       "      <td> 3497</td>\n",
       "      <td> 3498</td>\n",
       "      <td> 1</td>\n",
       "      <td> 717</td>\n",
       "      <td> 68298</td>\n",
       "      <td> 1_3498</td>\n",
       "      <td> 1_717</td>\n",
       "    </tr>\n",
       "    <tr>\n",
       "      <th>4</th>\n",
       "      <td> chr1</td>\n",
       "      <td> 3817</td>\n",
       "      <td> 3818</td>\n",
       "      <td> 1</td>\n",
       "      <td> 717</td>\n",
       "      <td> 68298</td>\n",
       "      <td> 1_3818</td>\n",
       "      <td> 1_717</td>\n",
       "    </tr>\n",
       "  </tbody>\n",
       "</table>\n",
       "</div>"
      ],
      "text/plain": [
       "      0     1     2  3    4      5   snpid  ibdid\n",
       "0  chr1   716   717  1   15    717   1_717   1_15\n",
       "1  chr1   882   883  1  717  68298   1_883  1_717\n",
       "2  chr1  2110  2111  1  717  68298  1_2111  1_717\n",
       "3  chr1  3497  3498  1  717  68298  1_3498  1_717\n",
       "4  chr1  3817  3818  1  717  68298  1_3818  1_717"
      ]
     },
     "execution_count": 38,
     "metadata": {},
     "output_type": "execute_result"
    }
   ],
   "source": [
    "snpibd.head()"
   ]
  },
  {
   "cell_type": "code",
   "execution_count": 39,
   "metadata": {
    "collapsed": false
   },
   "outputs": [
    {
     "ename": "NameError",
     "evalue": "name 'gerppositive' is not defined",
     "output_type": "error",
     "traceback": [
      "\u001b[1;31m---------------------------------------------------------------------------\u001b[0m",
      "\u001b[1;31mNameError\u001b[0m                                 Traceback (most recent call last)",
      "\u001b[1;32m<ipython-input-39-0addcca32e63>\u001b[0m in \u001b[0;36m<module>\u001b[1;34m()\u001b[0m\n\u001b[0;32m      1\u001b[0m \u001b[0msnpibd\u001b[0m \u001b[1;33m=\u001b[0m \u001b[0mpd\u001b[0m\u001b[1;33m.\u001b[0m\u001b[0mmerge\u001b[0m\u001b[1;33m(\u001b[0m\u001b[0msnpibd\u001b[0m\u001b[1;33m,\u001b[0m \u001b[0mgerph\u001b[0m\u001b[1;33m[\u001b[0m\u001b[1;33m[\u001b[0m\u001b[1;34m\"snpid\"\u001b[0m\u001b[1;33m,\u001b[0m \u001b[1;34m\"RS\"\u001b[0m\u001b[1;33m,\u001b[0m \u001b[1;34m\"h\"\u001b[0m\u001b[1;33m]\u001b[0m\u001b[1;33m]\u001b[0m\u001b[1;33m,\u001b[0m \u001b[0mon\u001b[0m\u001b[1;33m=\u001b[0m\u001b[1;34m'snpid'\u001b[0m\u001b[1;33m,\u001b[0m \u001b[0msort\u001b[0m\u001b[1;33m=\u001b[0m\u001b[0mFalse\u001b[0m\u001b[1;33m,\u001b[0m \u001b[0mhow\u001b[0m\u001b[1;33m=\u001b[0m\u001b[1;34m'inner'\u001b[0m\u001b[1;33m)\u001b[0m\u001b[1;33m\u001b[0m\u001b[0m\n\u001b[1;32m----> 2\u001b[1;33m \u001b[1;32mif\u001b[0m \u001b[0mgerppositive\u001b[0m \u001b[1;33m==\u001b[0m \u001b[1;34m\"positive\"\u001b[0m\u001b[1;33m:\u001b[0m\u001b[1;33m\u001b[0m\u001b[0m\n\u001b[0m\u001b[0;32m      3\u001b[0m     \u001b[0msnp0\u001b[0m \u001b[1;33m=\u001b[0m \u001b[0msnpibd\u001b[0m\u001b[1;33m[\u001b[0m\u001b[0msnpibd\u001b[0m\u001b[1;33m[\u001b[0m\u001b[1;34m'RS'\u001b[0m\u001b[1;33m]\u001b[0m\u001b[1;33m>\u001b[0m\u001b[1;36m0\u001b[0m\u001b[1;33m]\u001b[0m\u001b[1;33m\u001b[0m\u001b[0m\n\u001b[0;32m      4\u001b[0m \u001b[1;32melse\u001b[0m\u001b[1;33m:\u001b[0m\u001b[1;33m\u001b[0m\u001b[0m\n\u001b[0;32m      5\u001b[0m     \u001b[0msnp0\u001b[0m \u001b[1;33m=\u001b[0m \u001b[0msnpibd\u001b[0m\u001b[1;33m\u001b[0m\u001b[0m\n",
      "\u001b[1;31mNameError\u001b[0m: name 'gerppositive' is not defined"
     ]
    }
   ],
   "source": [
    "snpibd = pd.merge(snpibd, gerph[[\"snpid\", \"RS\", \"h\"]], on='snpid', sort=False, how='inner')\n",
    "if gerppositive == \"positive\":\n",
    "    snp0 = snpibd[snpibd['RS']>0]\n",
    "else:\n",
    "    snp0 = snpibd"
   ]
  },
  {
   "cell_type": "code",
   "execution_count": 40,
   "metadata": {
    "collapsed": true
   },
   "outputs": [],
   "source": [
    "snp0 = snpibd[snpibd['RS']>0]"
   ]
  },
  {
   "cell_type": "code",
   "execution_count": 41,
   "metadata": {
    "collapsed": false
   },
   "outputs": [
    {
     "data": {
      "text/plain": [
       "461562"
      ]
     },
     "execution_count": 41,
     "metadata": {},
     "output_type": "execute_result"
    }
   ],
   "source": [
    "len(snp0)"
   ]
  },
  {
   "cell_type": "code",
   "execution_count": 42,
   "metadata": {
    "collapsed": false
   },
   "outputs": [
    {
     "data": {
      "text/html": [
       "<div style=\"max-height:1000px;max-width:1500px;overflow:auto;\">\n",
       "<table border=\"1\" class=\"dataframe\">\n",
       "  <thead>\n",
       "    <tr style=\"text-align: right;\">\n",
       "      <th></th>\n",
       "      <th>0</th>\n",
       "      <th>1</th>\n",
       "      <th>2</th>\n",
       "      <th>3</th>\n",
       "      <th>4</th>\n",
       "      <th>5</th>\n",
       "      <th>snpid</th>\n",
       "      <th>ibdid</th>\n",
       "      <th>RS</th>\n",
       "      <th>h</th>\n",
       "    </tr>\n",
       "  </thead>\n",
       "  <tbody>\n",
       "    <tr>\n",
       "      <th>0</th>\n",
       "      <td> chr1</td>\n",
       "      <td>   9343</td>\n",
       "      <td>   9344</td>\n",
       "      <td> 1</td>\n",
       "      <td>   717</td>\n",
       "      <td>  68298</td>\n",
       "      <td>   1_9344</td>\n",
       "      <td>   1_717</td>\n",
       "      <td> 1.160</td>\n",
       "      <td>-2.000000</td>\n",
       "    </tr>\n",
       "    <tr>\n",
       "      <th>1</th>\n",
       "      <td> chr1</td>\n",
       "      <td>  93253</td>\n",
       "      <td>  93254</td>\n",
       "      <td> 1</td>\n",
       "      <td> 68298</td>\n",
       "      <td> 155849</td>\n",
       "      <td>  1_93254</td>\n",
       "      <td> 1_68298</td>\n",
       "      <td> 0.847</td>\n",
       "      <td>-1.612049</td>\n",
       "    </tr>\n",
       "    <tr>\n",
       "      <th>2</th>\n",
       "      <td> chr1</td>\n",
       "      <td> 109476</td>\n",
       "      <td> 109477</td>\n",
       "      <td> 1</td>\n",
       "      <td> 68298</td>\n",
       "      <td> 155849</td>\n",
       "      <td> 1_109477</td>\n",
       "      <td> 1_68298</td>\n",
       "      <td> 0.847</td>\n",
       "      <td> 1.786386</td>\n",
       "    </tr>\n",
       "    <tr>\n",
       "      <th>3</th>\n",
       "      <td> chr1</td>\n",
       "      <td> 110069</td>\n",
       "      <td> 110070</td>\n",
       "      <td> 1</td>\n",
       "      <td> 68298</td>\n",
       "      <td> 155849</td>\n",
       "      <td> 1_110070</td>\n",
       "      <td> 1_68298</td>\n",
       "      <td> 1.090</td>\n",
       "      <td>-1.612049</td>\n",
       "    </tr>\n",
       "    <tr>\n",
       "      <th>4</th>\n",
       "      <td> chr1</td>\n",
       "      <td> 146575</td>\n",
       "      <td> 146576</td>\n",
       "      <td> 1</td>\n",
       "      <td> 68298</td>\n",
       "      <td> 155849</td>\n",
       "      <td> 1_146576</td>\n",
       "      <td> 1_68298</td>\n",
       "      <td> 2.280</td>\n",
       "      <td>-0.245392</td>\n",
       "    </tr>\n",
       "  </tbody>\n",
       "</table>\n",
       "</div>"
      ],
      "text/plain": [
       "      0       1       2  3      4       5     snpid    ibdid     RS         h\n",
       "0  chr1    9343    9344  1    717   68298    1_9344    1_717  1.160 -2.000000\n",
       "1  chr1   93253   93254  1  68298  155849   1_93254  1_68298  0.847 -1.612049\n",
       "2  chr1  109476  109477  1  68298  155849  1_109477  1_68298  0.847  1.786386\n",
       "3  chr1  110069  110070  1  68298  155849  1_110070  1_68298  1.090 -1.612049\n",
       "4  chr1  146575  146576  1  68298  155849  1_146576  1_68298  2.280 -0.245392"
      ]
     },
     "execution_count": 42,
     "metadata": {},
     "output_type": "execute_result"
    }
   ],
   "source": [
    "snp0.head()"
   ]
  },
  {
   "cell_type": "code",
   "execution_count": 43,
   "metadata": {
    "collapsed": true
   },
   "outputs": [],
   "source": [
    "ibd0 = snp0.groupby('ibdid').size()"
   ]
  },
  {
   "cell_type": "code",
   "execution_count": 44,
   "metadata": {
    "collapsed": false
   },
   "outputs": [
    {
     "data": {
      "text/plain": [
       "ibdid\n",
       "10_100007314    15\n",
       "10_100071610     7\n",
       "10_100123206     8\n",
       "10_100127859     3\n",
       "10_100211978     7\n",
       "dtype: int64"
      ]
     },
     "execution_count": 44,
     "metadata": {},
     "output_type": "execute_result"
    }
   ],
   "source": [
    "ibd0.head()"
   ]
  },
  {
   "cell_type": "code",
   "execution_count": 45,
   "metadata": {
    "collapsed": true
   },
   "outputs": [],
   "source": [
    "ibddsf = pd.merge(snp0, dsf7.iloc[:,np.r_[0, 7:19]], on=\"snpid\", sort=False, how=\"inner\")"
   ]
  },
  {
   "cell_type": "code",
   "execution_count": 46,
   "metadata": {
    "collapsed": false
   },
   "outputs": [
    {
     "data": {
      "text/plain": [
       "461562"
      ]
     },
     "execution_count": 46,
     "metadata": {},
     "output_type": "execute_result"
    }
   ],
   "source": [
    "len(ibddsf)"
   ]
  },
  {
   "cell_type": "code",
   "execution_count": 47,
   "metadata": {
    "collapsed": false
   },
   "outputs": [
    {
     "data": {
      "text/html": [
       "<div style=\"max-height:1000px;max-width:1500px;overflow:auto;\">\n",
       "<table border=\"1\" class=\"dataframe\">\n",
       "  <thead>\n",
       "    <tr style=\"text-align: right;\">\n",
       "      <th></th>\n",
       "      <th>0</th>\n",
       "      <th>1</th>\n",
       "      <th>2</th>\n",
       "      <th>3</th>\n",
       "      <th>4</th>\n",
       "      <th>5</th>\n",
       "      <th>snpid</th>\n",
       "      <th>ibdid</th>\n",
       "      <th>RS</th>\n",
       "      <th>h</th>\n",
       "      <th>...</th>\n",
       "      <th>MO17</th>\n",
       "      <th>PHG35</th>\n",
       "      <th>PHG47</th>\n",
       "      <th>PHJ40</th>\n",
       "      <th>LH123HT</th>\n",
       "      <th>LH82</th>\n",
       "      <th>PH207</th>\n",
       "      <th>PHG39</th>\n",
       "      <th>PHG84</th>\n",
       "      <th>PHZ51</th>\n",
       "    </tr>\n",
       "  </thead>\n",
       "  <tbody>\n",
       "    <tr>\n",
       "      <th>0</th>\n",
       "      <td> chr1</td>\n",
       "      <td>   9343</td>\n",
       "      <td>   9344</td>\n",
       "      <td> 1</td>\n",
       "      <td>   717</td>\n",
       "      <td>  68298</td>\n",
       "      <td>   1_9344</td>\n",
       "      <td>   1_717</td>\n",
       "      <td> 1.160</td>\n",
       "      <td>-2.000000</td>\n",
       "      <td>...</td>\n",
       "      <td> A</td>\n",
       "      <td> A</td>\n",
       "      <td> A</td>\n",
       "      <td> A</td>\n",
       "      <td> A</td>\n",
       "      <td> N</td>\n",
       "      <td> N</td>\n",
       "      <td> T</td>\n",
       "      <td> A</td>\n",
       "      <td> A</td>\n",
       "    </tr>\n",
       "    <tr>\n",
       "      <th>1</th>\n",
       "      <td> chr1</td>\n",
       "      <td>  93253</td>\n",
       "      <td>  93254</td>\n",
       "      <td> 1</td>\n",
       "      <td> 68298</td>\n",
       "      <td> 155849</td>\n",
       "      <td>  1_93254</td>\n",
       "      <td> 1_68298</td>\n",
       "      <td> 0.847</td>\n",
       "      <td>-1.612049</td>\n",
       "      <td>...</td>\n",
       "      <td> T</td>\n",
       "      <td> C</td>\n",
       "      <td> T</td>\n",
       "      <td> T</td>\n",
       "      <td> T</td>\n",
       "      <td> C</td>\n",
       "      <td> C</td>\n",
       "      <td> C</td>\n",
       "      <td> C</td>\n",
       "      <td> T</td>\n",
       "    </tr>\n",
       "    <tr>\n",
       "      <th>2</th>\n",
       "      <td> chr1</td>\n",
       "      <td> 109476</td>\n",
       "      <td> 109477</td>\n",
       "      <td> 1</td>\n",
       "      <td> 68298</td>\n",
       "      <td> 155849</td>\n",
       "      <td> 1_109477</td>\n",
       "      <td> 1_68298</td>\n",
       "      <td> 0.847</td>\n",
       "      <td> 1.786386</td>\n",
       "      <td>...</td>\n",
       "      <td> T</td>\n",
       "      <td> T</td>\n",
       "      <td> A</td>\n",
       "      <td> T</td>\n",
       "      <td> A</td>\n",
       "      <td> T</td>\n",
       "      <td> T</td>\n",
       "      <td> T</td>\n",
       "      <td> T</td>\n",
       "      <td> T</td>\n",
       "    </tr>\n",
       "    <tr>\n",
       "      <th>3</th>\n",
       "      <td> chr1</td>\n",
       "      <td> 110069</td>\n",
       "      <td> 110070</td>\n",
       "      <td> 1</td>\n",
       "      <td> 68298</td>\n",
       "      <td> 155849</td>\n",
       "      <td> 1_110070</td>\n",
       "      <td> 1_68298</td>\n",
       "      <td> 1.090</td>\n",
       "      <td>-1.612049</td>\n",
       "      <td>...</td>\n",
       "      <td> C</td>\n",
       "      <td> T</td>\n",
       "      <td> C</td>\n",
       "      <td> C</td>\n",
       "      <td> C</td>\n",
       "      <td> T</td>\n",
       "      <td> T</td>\n",
       "      <td> T</td>\n",
       "      <td> T</td>\n",
       "      <td> C</td>\n",
       "    </tr>\n",
       "    <tr>\n",
       "      <th>4</th>\n",
       "      <td> chr1</td>\n",
       "      <td> 146575</td>\n",
       "      <td> 146576</td>\n",
       "      <td> 1</td>\n",
       "      <td> 68298</td>\n",
       "      <td> 155849</td>\n",
       "      <td> 1_146576</td>\n",
       "      <td> 1_68298</td>\n",
       "      <td> 2.280</td>\n",
       "      <td>-0.245392</td>\n",
       "      <td>...</td>\n",
       "      <td> N</td>\n",
       "      <td> C</td>\n",
       "      <td> C</td>\n",
       "      <td> C</td>\n",
       "      <td> C</td>\n",
       "      <td> N</td>\n",
       "      <td> T</td>\n",
       "      <td> T</td>\n",
       "      <td> C</td>\n",
       "      <td> N</td>\n",
       "    </tr>\n",
       "  </tbody>\n",
       "</table>\n",
       "<p>5 rows × 22 columns</p>\n",
       "</div>"
      ],
      "text/plain": [
       "      0       1       2  3      4       5     snpid    ibdid     RS         h  \\\n",
       "0  chr1    9343    9344  1    717   68298    1_9344    1_717  1.160 -2.000000   \n",
       "1  chr1   93253   93254  1  68298  155849   1_93254  1_68298  0.847 -1.612049   \n",
       "2  chr1  109476  109477  1  68298  155849  1_109477  1_68298  0.847  1.786386   \n",
       "3  chr1  110069  110070  1  68298  155849  1_110070  1_68298  1.090 -1.612049   \n",
       "4  chr1  146575  146576  1  68298  155849  1_146576  1_68298  2.280 -0.245392   \n",
       "\n",
       "     ...    MO17 PHG35 PHG47 PHJ40 LH123HT LH82 PH207 PHG39 PHG84 PHZ51  \n",
       "0    ...       A     A     A     A       A    N     N     T     A     A  \n",
       "1    ...       T     C     T     T       T    C     C     C     C     T  \n",
       "2    ...       T     T     A     T       A    T     T     T     T     T  \n",
       "3    ...       C     T     C     C       C    T     T     T     T     C  \n",
       "4    ...       N     C     C     C       C    N     T     T     C     N  \n",
       "\n",
       "[5 rows x 22 columns]"
      ]
     },
     "execution_count": 47,
     "metadata": {},
     "output_type": "execute_result"
    }
   ],
   "source": [
    "ibddsf.head()"
   ]
  },
  {
   "cell_type": "code",
   "execution_count": null,
   "metadata": {
    "collapsed": false
   },
   "outputs": [],
   "source": []
  },
  {
   "cell_type": "code",
   "execution_count": 51,
   "metadata": {
    "collapsed": false
   },
   "outputs": [
    {
     "data": {
      "text/plain": [
       "Index([2, 3], dtype='object')"
      ]
     },
     "execution_count": 51,
     "metadata": {},
     "output_type": "execute_result"
    }
   ],
   "source": [
    "ibddsf.columns[2:4]"
   ]
  },
  {
   "cell_type": "code",
   "execution_count": 52,
   "metadata": {
    "collapsed": true
   },
   "outputs": [],
   "source": [
    "pd.set_option('max_colwidth', 30)"
   ]
  },
  {
   "cell_type": "code",
   "execution_count": 56,
   "metadata": {
    "collapsed": false,
    "scrolled": true
   },
   "outputs": [
    {
     "data": {
      "text/html": [
       "<div style=\"max-height:1000px;max-width:1500px;overflow:auto;\">\n",
       "<table border=\"1\" class=\"dataframe\">\n",
       "  <thead>\n",
       "    <tr style=\"text-align: right;\">\n",
       "      <th></th>\n",
       "      <th>0</th>\n",
       "      <th>1</th>\n",
       "      <th>2</th>\n",
       "      <th>3</th>\n",
       "      <th>4</th>\n",
       "      <th>5</th>\n",
       "      <th>snpid</th>\n",
       "      <th>ibdid</th>\n",
       "      <th>RS</th>\n",
       "      <th>h</th>\n",
       "      <th>B73</th>\n",
       "      <th>LH1</th>\n",
       "      <th>MO17</th>\n",
       "      <th>PHG35</th>\n",
       "      <th>PHG47</th>\n",
       "      <th>PHJ40</th>\n",
       "      <th>LH123HT</th>\n",
       "      <th>LH82</th>\n",
       "      <th>PH207</th>\n",
       "      <th>PHG39</th>\n",
       "      <th>PHG84</th>\n",
       "      <th>PHZ51</th>\n",
       "    </tr>\n",
       "  </thead>\n",
       "  <tbody>\n",
       "    <tr>\n",
       "      <th>0</th>\n",
       "      <td> chr1</td>\n",
       "      <td>   9343</td>\n",
       "      <td>   9344</td>\n",
       "      <td> 1</td>\n",
       "      <td>   717</td>\n",
       "      <td>  68298</td>\n",
       "      <td>   1_9344</td>\n",
       "      <td>   1_717</td>\n",
       "      <td> 1.160</td>\n",
       "      <td>-2.000000</td>\n",
       "      <td> A</td>\n",
       "      <td> T</td>\n",
       "      <td> A</td>\n",
       "      <td> A</td>\n",
       "      <td> A</td>\n",
       "      <td> A</td>\n",
       "      <td> A</td>\n",
       "      <td> N</td>\n",
       "      <td> N</td>\n",
       "      <td> T</td>\n",
       "      <td> A</td>\n",
       "      <td> A</td>\n",
       "    </tr>\n",
       "    <tr>\n",
       "      <th>1</th>\n",
       "      <td> chr1</td>\n",
       "      <td>  93253</td>\n",
       "      <td>  93254</td>\n",
       "      <td> 1</td>\n",
       "      <td> 68298</td>\n",
       "      <td> 155849</td>\n",
       "      <td>  1_93254</td>\n",
       "      <td> 1_68298</td>\n",
       "      <td> 0.847</td>\n",
       "      <td>-1.612049</td>\n",
       "      <td> T</td>\n",
       "      <td> C</td>\n",
       "      <td> T</td>\n",
       "      <td> C</td>\n",
       "      <td> T</td>\n",
       "      <td> T</td>\n",
       "      <td> T</td>\n",
       "      <td> C</td>\n",
       "      <td> C</td>\n",
       "      <td> C</td>\n",
       "      <td> C</td>\n",
       "      <td> T</td>\n",
       "    </tr>\n",
       "    <tr>\n",
       "      <th>2</th>\n",
       "      <td> chr1</td>\n",
       "      <td> 109476</td>\n",
       "      <td> 109477</td>\n",
       "      <td> 1</td>\n",
       "      <td> 68298</td>\n",
       "      <td> 155849</td>\n",
       "      <td> 1_109477</td>\n",
       "      <td> 1_68298</td>\n",
       "      <td> 0.847</td>\n",
       "      <td> 1.786386</td>\n",
       "      <td> T</td>\n",
       "      <td> T</td>\n",
       "      <td> T</td>\n",
       "      <td> T</td>\n",
       "      <td> A</td>\n",
       "      <td> T</td>\n",
       "      <td> A</td>\n",
       "      <td> T</td>\n",
       "      <td> T</td>\n",
       "      <td> T</td>\n",
       "      <td> T</td>\n",
       "      <td> T</td>\n",
       "    </tr>\n",
       "    <tr>\n",
       "      <th>3</th>\n",
       "      <td> chr1</td>\n",
       "      <td> 110069</td>\n",
       "      <td> 110070</td>\n",
       "      <td> 1</td>\n",
       "      <td> 68298</td>\n",
       "      <td> 155849</td>\n",
       "      <td> 1_110070</td>\n",
       "      <td> 1_68298</td>\n",
       "      <td> 1.090</td>\n",
       "      <td>-1.612049</td>\n",
       "      <td> C</td>\n",
       "      <td> T</td>\n",
       "      <td> C</td>\n",
       "      <td> T</td>\n",
       "      <td> C</td>\n",
       "      <td> C</td>\n",
       "      <td> C</td>\n",
       "      <td> T</td>\n",
       "      <td> T</td>\n",
       "      <td> T</td>\n",
       "      <td> T</td>\n",
       "      <td> C</td>\n",
       "    </tr>\n",
       "    <tr>\n",
       "      <th>4</th>\n",
       "      <td> chr1</td>\n",
       "      <td> 146575</td>\n",
       "      <td> 146576</td>\n",
       "      <td> 1</td>\n",
       "      <td> 68298</td>\n",
       "      <td> 155849</td>\n",
       "      <td> 1_146576</td>\n",
       "      <td> 1_68298</td>\n",
       "      <td> 2.280</td>\n",
       "      <td>-0.245392</td>\n",
       "      <td> C</td>\n",
       "      <td> T</td>\n",
       "      <td> N</td>\n",
       "      <td> C</td>\n",
       "      <td> C</td>\n",
       "      <td> C</td>\n",
       "      <td> C</td>\n",
       "      <td> N</td>\n",
       "      <td> T</td>\n",
       "      <td> T</td>\n",
       "      <td> C</td>\n",
       "      <td> N</td>\n",
       "    </tr>\n",
       "  </tbody>\n",
       "</table>\n",
       "</div>"
      ],
      "text/plain": [
       "      0       1       2  3      4       5     snpid    ibdid     RS         h  \\\n",
       "0  chr1    9343    9344  1    717   68298    1_9344    1_717  1.160 -2.000000   \n",
       "1  chr1   93253   93254  1  68298  155849   1_93254  1_68298  0.847 -1.612049   \n",
       "2  chr1  109476  109477  1  68298  155849  1_109477  1_68298  0.847  1.786386   \n",
       "3  chr1  110069  110070  1  68298  155849  1_110070  1_68298  1.090 -1.612049   \n",
       "4  chr1  146575  146576  1  68298  155849  1_146576  1_68298  2.280 -0.245392   \n",
       "\n",
       "  B73 LH1 MO17 PHG35 PHG47 PHJ40 LH123HT LH82 PH207 PHG39 PHG84 PHZ51  \n",
       "0   A   T    A     A     A     A       A    N     N     T     A     A  \n",
       "1   T   C    T     C     T     T       T    C     C     C     C     T  \n",
       "2   T   T    T     T     A     T       A    T     T     T     T     T  \n",
       "3   C   T    C     T     C     C       C    T     T     T     T     C  \n",
       "4   C   T    N     C     C     C       C    N     T     T     C     N  "
      ]
     },
     "execution_count": 56,
     "metadata": {},
     "output_type": "execute_result"
    }
   ],
   "source": [
    "ibddsf.head()"
   ]
  },
  {
   "cell_type": "code",
   "execution_count": 54,
   "metadata": {
    "collapsed": true
   },
   "outputs": [],
   "source": [
    "pd.set_option('display.max_columns', 30)"
   ]
  },
  {
   "cell_type": "code",
   "execution_count": 57,
   "metadata": {
    "collapsed": false
   },
   "outputs": [
    {
     "data": {
      "text/html": [
       "<div style=\"max-height:1000px;max-width:1500px;overflow:auto;\">\n",
       "<table border=\"1\" class=\"dataframe\">\n",
       "  <thead>\n",
       "    <tr style=\"text-align: right;\">\n",
       "      <th></th>\n",
       "      <th>snpid</th>\n",
       "      <th>chr</th>\n",
       "      <th>pos</th>\n",
       "      <th>major</th>\n",
       "      <th>minor</th>\n",
       "      <th>MAF</th>\n",
       "      <th>missing</th>\n",
       "      <th>B73</th>\n",
       "      <th>LH1</th>\n",
       "      <th>MO17</th>\n",
       "      <th>PHG35</th>\n",
       "      <th>PHG47</th>\n",
       "      <th>PHJ40</th>\n",
       "      <th>LH123HT</th>\n",
       "      <th>LH82</th>\n",
       "      <th>PH207</th>\n",
       "      <th>PHG39</th>\n",
       "      <th>PHG84</th>\n",
       "      <th>PHZ51</th>\n",
       "    </tr>\n",
       "  </thead>\n",
       "  <tbody>\n",
       "    <tr>\n",
       "      <th>0</th>\n",
       "      <td>   1_15</td>\n",
       "      <td> 1</td>\n",
       "      <td>   15</td>\n",
       "      <td> A</td>\n",
       "      <td> G</td>\n",
       "      <td> 0.167</td>\n",
       "      <td> 0</td>\n",
       "      <td> A</td>\n",
       "      <td> A</td>\n",
       "      <td> G</td>\n",
       "      <td> A</td>\n",
       "      <td> A</td>\n",
       "      <td> A</td>\n",
       "      <td> A</td>\n",
       "      <td> A</td>\n",
       "      <td> A</td>\n",
       "      <td> A</td>\n",
       "      <td> A</td>\n",
       "      <td> G</td>\n",
       "    </tr>\n",
       "    <tr>\n",
       "      <th>1</th>\n",
       "      <td>  1_717</td>\n",
       "      <td> 1</td>\n",
       "      <td>  717</td>\n",
       "      <td> A</td>\n",
       "      <td> G</td>\n",
       "      <td> 0.167</td>\n",
       "      <td> 0</td>\n",
       "      <td> A</td>\n",
       "      <td> A</td>\n",
       "      <td> G</td>\n",
       "      <td> A</td>\n",
       "      <td> A</td>\n",
       "      <td> A</td>\n",
       "      <td> A</td>\n",
       "      <td> A</td>\n",
       "      <td> A</td>\n",
       "      <td> A</td>\n",
       "      <td> A</td>\n",
       "      <td> G</td>\n",
       "    </tr>\n",
       "    <tr>\n",
       "      <th>2</th>\n",
       "      <td>  1_883</td>\n",
       "      <td> 1</td>\n",
       "      <td>  883</td>\n",
       "      <td> A</td>\n",
       "      <td> G</td>\n",
       "      <td> 0.167</td>\n",
       "      <td> 0</td>\n",
       "      <td> A</td>\n",
       "      <td> A</td>\n",
       "      <td> G</td>\n",
       "      <td> A</td>\n",
       "      <td> A</td>\n",
       "      <td> A</td>\n",
       "      <td> A</td>\n",
       "      <td> A</td>\n",
       "      <td> A</td>\n",
       "      <td> A</td>\n",
       "      <td> A</td>\n",
       "      <td> G</td>\n",
       "    </tr>\n",
       "    <tr>\n",
       "      <th>3</th>\n",
       "      <td> 1_2111</td>\n",
       "      <td> 1</td>\n",
       "      <td> 2111</td>\n",
       "      <td> C</td>\n",
       "      <td> T</td>\n",
       "      <td> 0.167</td>\n",
       "      <td> 0</td>\n",
       "      <td> C</td>\n",
       "      <td> C</td>\n",
       "      <td> T</td>\n",
       "      <td> C</td>\n",
       "      <td> C</td>\n",
       "      <td> C</td>\n",
       "      <td> C</td>\n",
       "      <td> C</td>\n",
       "      <td> C</td>\n",
       "      <td> C</td>\n",
       "      <td> C</td>\n",
       "      <td> T</td>\n",
       "    </tr>\n",
       "    <tr>\n",
       "      <th>4</th>\n",
       "      <td> 1_3498</td>\n",
       "      <td> 1</td>\n",
       "      <td> 3498</td>\n",
       "      <td> G</td>\n",
       "      <td> A</td>\n",
       "      <td> 0.333</td>\n",
       "      <td> 0</td>\n",
       "      <td> A</td>\n",
       "      <td> G</td>\n",
       "      <td> G</td>\n",
       "      <td> G</td>\n",
       "      <td> A</td>\n",
       "      <td> A</td>\n",
       "      <td> A</td>\n",
       "      <td> G</td>\n",
       "      <td> G</td>\n",
       "      <td> G</td>\n",
       "      <td> G</td>\n",
       "      <td> G</td>\n",
       "    </tr>\n",
       "  </tbody>\n",
       "</table>\n",
       "</div>"
      ],
      "text/plain": [
       "    snpid  chr   pos major minor    MAF  missing B73 LH1 MO17 PHG35 PHG47  \\\n",
       "0    1_15    1    15     A     G  0.167        0   A   A    G     A     A   \n",
       "1   1_717    1   717     A     G  0.167        0   A   A    G     A     A   \n",
       "2   1_883    1   883     A     G  0.167        0   A   A    G     A     A   \n",
       "3  1_2111    1  2111     C     T  0.167        0   C   C    T     C     C   \n",
       "4  1_3498    1  3498     G     A  0.333        0   A   G    G     G     A   \n",
       "\n",
       "  PHJ40 LH123HT LH82 PH207 PHG39 PHG84 PHZ51  \n",
       "0     A       A    A     A     A     A     G  \n",
       "1     A       A    A     A     A     A     G  \n",
       "2     A       A    A     A     A     A     G  \n",
       "3     C       C    C     C     C     C     T  \n",
       "4     A       A    G     G     G     G     G  "
      ]
     },
     "execution_count": 57,
     "metadata": {},
     "output_type": "execute_result"
    }
   ],
   "source": [
    "dsf7.head()"
   ]
  },
  {
   "cell_type": "code",
   "execution_count": 58,
   "metadata": {
    "collapsed": true
   },
   "outputs": [],
   "source": [
    "ibddsf = pd.merge(snp0, dsf7.iloc[:,np.r_[0, 3, 7:19]], on=\"snpid\", sort=False, how=\"inner\")"
   ]
  },
  {
   "cell_type": "code",
   "execution_count": 59,
   "metadata": {
    "collapsed": false
   },
   "outputs": [
    {
     "data": {
      "text/html": [
       "<div style=\"max-height:1000px;max-width:1500px;overflow:auto;\">\n",
       "<table border=\"1\" class=\"dataframe\">\n",
       "  <thead>\n",
       "    <tr style=\"text-align: right;\">\n",
       "      <th></th>\n",
       "      <th>0</th>\n",
       "      <th>1</th>\n",
       "      <th>2</th>\n",
       "      <th>3</th>\n",
       "      <th>4</th>\n",
       "      <th>5</th>\n",
       "      <th>snpid</th>\n",
       "      <th>ibdid</th>\n",
       "      <th>RS</th>\n",
       "      <th>h</th>\n",
       "      <th>major</th>\n",
       "      <th>B73</th>\n",
       "      <th>LH1</th>\n",
       "      <th>MO17</th>\n",
       "      <th>PHG35</th>\n",
       "      <th>PHG47</th>\n",
       "      <th>PHJ40</th>\n",
       "      <th>LH123HT</th>\n",
       "      <th>LH82</th>\n",
       "      <th>PH207</th>\n",
       "      <th>PHG39</th>\n",
       "      <th>PHG84</th>\n",
       "      <th>PHZ51</th>\n",
       "    </tr>\n",
       "  </thead>\n",
       "  <tbody>\n",
       "    <tr>\n",
       "      <th>0</th>\n",
       "      <td> chr1</td>\n",
       "      <td>   9343</td>\n",
       "      <td>   9344</td>\n",
       "      <td> 1</td>\n",
       "      <td>   717</td>\n",
       "      <td>  68298</td>\n",
       "      <td>   1_9344</td>\n",
       "      <td>   1_717</td>\n",
       "      <td> 1.160</td>\n",
       "      <td>-2.000000</td>\n",
       "      <td> A</td>\n",
       "      <td> A</td>\n",
       "      <td> T</td>\n",
       "      <td> A</td>\n",
       "      <td> A</td>\n",
       "      <td> A</td>\n",
       "      <td> A</td>\n",
       "      <td> A</td>\n",
       "      <td> N</td>\n",
       "      <td> N</td>\n",
       "      <td> T</td>\n",
       "      <td> A</td>\n",
       "      <td> A</td>\n",
       "    </tr>\n",
       "    <tr>\n",
       "      <th>1</th>\n",
       "      <td> chr1</td>\n",
       "      <td>  93253</td>\n",
       "      <td>  93254</td>\n",
       "      <td> 1</td>\n",
       "      <td> 68298</td>\n",
       "      <td> 155849</td>\n",
       "      <td>  1_93254</td>\n",
       "      <td> 1_68298</td>\n",
       "      <td> 0.847</td>\n",
       "      <td>-1.612049</td>\n",
       "      <td> C</td>\n",
       "      <td> T</td>\n",
       "      <td> C</td>\n",
       "      <td> T</td>\n",
       "      <td> C</td>\n",
       "      <td> T</td>\n",
       "      <td> T</td>\n",
       "      <td> T</td>\n",
       "      <td> C</td>\n",
       "      <td> C</td>\n",
       "      <td> C</td>\n",
       "      <td> C</td>\n",
       "      <td> T</td>\n",
       "    </tr>\n",
       "    <tr>\n",
       "      <th>2</th>\n",
       "      <td> chr1</td>\n",
       "      <td> 109476</td>\n",
       "      <td> 109477</td>\n",
       "      <td> 1</td>\n",
       "      <td> 68298</td>\n",
       "      <td> 155849</td>\n",
       "      <td> 1_109477</td>\n",
       "      <td> 1_68298</td>\n",
       "      <td> 0.847</td>\n",
       "      <td> 1.786386</td>\n",
       "      <td> T</td>\n",
       "      <td> T</td>\n",
       "      <td> T</td>\n",
       "      <td> T</td>\n",
       "      <td> T</td>\n",
       "      <td> A</td>\n",
       "      <td> T</td>\n",
       "      <td> A</td>\n",
       "      <td> T</td>\n",
       "      <td> T</td>\n",
       "      <td> T</td>\n",
       "      <td> T</td>\n",
       "      <td> T</td>\n",
       "    </tr>\n",
       "    <tr>\n",
       "      <th>3</th>\n",
       "      <td> chr1</td>\n",
       "      <td> 110069</td>\n",
       "      <td> 110070</td>\n",
       "      <td> 1</td>\n",
       "      <td> 68298</td>\n",
       "      <td> 155849</td>\n",
       "      <td> 1_110070</td>\n",
       "      <td> 1_68298</td>\n",
       "      <td> 1.090</td>\n",
       "      <td>-1.612049</td>\n",
       "      <td> C</td>\n",
       "      <td> C</td>\n",
       "      <td> T</td>\n",
       "      <td> C</td>\n",
       "      <td> T</td>\n",
       "      <td> C</td>\n",
       "      <td> C</td>\n",
       "      <td> C</td>\n",
       "      <td> T</td>\n",
       "      <td> T</td>\n",
       "      <td> T</td>\n",
       "      <td> T</td>\n",
       "      <td> C</td>\n",
       "    </tr>\n",
       "    <tr>\n",
       "      <th>4</th>\n",
       "      <td> chr1</td>\n",
       "      <td> 146575</td>\n",
       "      <td> 146576</td>\n",
       "      <td> 1</td>\n",
       "      <td> 68298</td>\n",
       "      <td> 155849</td>\n",
       "      <td> 1_146576</td>\n",
       "      <td> 1_68298</td>\n",
       "      <td> 2.280</td>\n",
       "      <td>-0.245392</td>\n",
       "      <td> C</td>\n",
       "      <td> C</td>\n",
       "      <td> T</td>\n",
       "      <td> N</td>\n",
       "      <td> C</td>\n",
       "      <td> C</td>\n",
       "      <td> C</td>\n",
       "      <td> C</td>\n",
       "      <td> N</td>\n",
       "      <td> T</td>\n",
       "      <td> T</td>\n",
       "      <td> C</td>\n",
       "      <td> N</td>\n",
       "    </tr>\n",
       "  </tbody>\n",
       "</table>\n",
       "</div>"
      ],
      "text/plain": [
       "      0       1       2  3      4       5     snpid    ibdid     RS         h  \\\n",
       "0  chr1    9343    9344  1    717   68298    1_9344    1_717  1.160 -2.000000   \n",
       "1  chr1   93253   93254  1  68298  155849   1_93254  1_68298  0.847 -1.612049   \n",
       "2  chr1  109476  109477  1  68298  155849  1_109477  1_68298  0.847  1.786386   \n",
       "3  chr1  110069  110070  1  68298  155849  1_110070  1_68298  1.090 -1.612049   \n",
       "4  chr1  146575  146576  1  68298  155849  1_146576  1_68298  2.280 -0.245392   \n",
       "\n",
       "  major B73 LH1 MO17 PHG35 PHG47 PHJ40 LH123HT LH82 PH207 PHG39 PHG84 PHZ51  \n",
       "0     A   A   T    A     A     A     A       A    N     N     T     A     A  \n",
       "1     C   T   C    T     C     T     T       T    C     C     C     C     T  \n",
       "2     T   T   T    T     T     A     T       A    T     T     T     T     T  \n",
       "3     C   C   T    C     T     C     C       C    T     T     T     T     C  \n",
       "4     C   C   T    N     C     C     C       C    N     T     T     C     N  "
      ]
     },
     "execution_count": 59,
     "metadata": {},
     "output_type": "execute_result"
    }
   ],
   "source": [
    "ibddsf.head()"
   ]
  },
  {
   "cell_type": "code",
   "execution_count": 60,
   "metadata": {
    "collapsed": true
   },
   "outputs": [],
   "source": [
    "### create a pedigree table\n",
    "def getPed(ibddsf):\n",
    "  names = ibddsf.columns.values[11:23]\n",
    "  names = np.sort(names)\n",
    "  ped = pd.DataFrame({'F1': np.random.randn(144),\n",
    "                      'P1': np.repeat(names, 12, axis=0),\n",
    "                      'P2': names.tolist() * 12})\n",
    "  ped = ped[ped['P1'] < ped['P2']]\n",
    "  ped.loc[:, 'F1'] = ped['P1'] + \"x\" + ped['P2']\n",
    "  return ped"
   ]
  },
  {
   "cell_type": "code",
   "execution_count": 61,
   "metadata": {
    "collapsed": true
   },
   "outputs": [],
   "source": [
    "ped = getPed(ibddsf)"
   ]
  },
  {
   "cell_type": "code",
   "execution_count": 62,
   "metadata": {
    "collapsed": false
   },
   "outputs": [
    {
     "data": {
      "text/html": [
       "<div style=\"max-height:1000px;max-width:1500px;overflow:auto;\">\n",
       "<table border=\"1\" class=\"dataframe\">\n",
       "  <thead>\n",
       "    <tr style=\"text-align: right;\">\n",
       "      <th></th>\n",
       "      <th>F1</th>\n",
       "      <th>P1</th>\n",
       "      <th>P2</th>\n",
       "    </tr>\n",
       "  </thead>\n",
       "  <tbody>\n",
       "    <tr>\n",
       "      <th>1  </th>\n",
       "      <td>       B73xLH1</td>\n",
       "      <td>     B73</td>\n",
       "      <td>     LH1</td>\n",
       "    </tr>\n",
       "    <tr>\n",
       "      <th>2  </th>\n",
       "      <td>   B73xLH123HT</td>\n",
       "      <td>     B73</td>\n",
       "      <td> LH123HT</td>\n",
       "    </tr>\n",
       "    <tr>\n",
       "      <th>3  </th>\n",
       "      <td>      B73xLH82</td>\n",
       "      <td>     B73</td>\n",
       "      <td>    LH82</td>\n",
       "    </tr>\n",
       "    <tr>\n",
       "      <th>4  </th>\n",
       "      <td>      B73xMO17</td>\n",
       "      <td>     B73</td>\n",
       "      <td>    MO17</td>\n",
       "    </tr>\n",
       "    <tr>\n",
       "      <th>5  </th>\n",
       "      <td>     B73xPH207</td>\n",
       "      <td>     B73</td>\n",
       "      <td>   PH207</td>\n",
       "    </tr>\n",
       "    <tr>\n",
       "      <th>6  </th>\n",
       "      <td>     B73xPHG35</td>\n",
       "      <td>     B73</td>\n",
       "      <td>   PHG35</td>\n",
       "    </tr>\n",
       "    <tr>\n",
       "      <th>7  </th>\n",
       "      <td>     B73xPHG39</td>\n",
       "      <td>     B73</td>\n",
       "      <td>   PHG39</td>\n",
       "    </tr>\n",
       "    <tr>\n",
       "      <th>8  </th>\n",
       "      <td>     B73xPHG47</td>\n",
       "      <td>     B73</td>\n",
       "      <td>   PHG47</td>\n",
       "    </tr>\n",
       "    <tr>\n",
       "      <th>9  </th>\n",
       "      <td>     B73xPHG84</td>\n",
       "      <td>     B73</td>\n",
       "      <td>   PHG84</td>\n",
       "    </tr>\n",
       "    <tr>\n",
       "      <th>10 </th>\n",
       "      <td>     B73xPHJ40</td>\n",
       "      <td>     B73</td>\n",
       "      <td>   PHJ40</td>\n",
       "    </tr>\n",
       "    <tr>\n",
       "      <th>11 </th>\n",
       "      <td>     B73xPHZ51</td>\n",
       "      <td>     B73</td>\n",
       "      <td>   PHZ51</td>\n",
       "    </tr>\n",
       "    <tr>\n",
       "      <th>14 </th>\n",
       "      <td>   LH1xLH123HT</td>\n",
       "      <td>     LH1</td>\n",
       "      <td> LH123HT</td>\n",
       "    </tr>\n",
       "    <tr>\n",
       "      <th>15 </th>\n",
       "      <td>      LH1xLH82</td>\n",
       "      <td>     LH1</td>\n",
       "      <td>    LH82</td>\n",
       "    </tr>\n",
       "    <tr>\n",
       "      <th>16 </th>\n",
       "      <td>      LH1xMO17</td>\n",
       "      <td>     LH1</td>\n",
       "      <td>    MO17</td>\n",
       "    </tr>\n",
       "    <tr>\n",
       "      <th>17 </th>\n",
       "      <td>     LH1xPH207</td>\n",
       "      <td>     LH1</td>\n",
       "      <td>   PH207</td>\n",
       "    </tr>\n",
       "    <tr>\n",
       "      <th>18 </th>\n",
       "      <td>     LH1xPHG35</td>\n",
       "      <td>     LH1</td>\n",
       "      <td>   PHG35</td>\n",
       "    </tr>\n",
       "    <tr>\n",
       "      <th>19 </th>\n",
       "      <td>     LH1xPHG39</td>\n",
       "      <td>     LH1</td>\n",
       "      <td>   PHG39</td>\n",
       "    </tr>\n",
       "    <tr>\n",
       "      <th>20 </th>\n",
       "      <td>     LH1xPHG47</td>\n",
       "      <td>     LH1</td>\n",
       "      <td>   PHG47</td>\n",
       "    </tr>\n",
       "    <tr>\n",
       "      <th>21 </th>\n",
       "      <td>     LH1xPHG84</td>\n",
       "      <td>     LH1</td>\n",
       "      <td>   PHG84</td>\n",
       "    </tr>\n",
       "    <tr>\n",
       "      <th>22 </th>\n",
       "      <td>     LH1xPHJ40</td>\n",
       "      <td>     LH1</td>\n",
       "      <td>   PHJ40</td>\n",
       "    </tr>\n",
       "    <tr>\n",
       "      <th>23 </th>\n",
       "      <td>     LH1xPHZ51</td>\n",
       "      <td>     LH1</td>\n",
       "      <td>   PHZ51</td>\n",
       "    </tr>\n",
       "    <tr>\n",
       "      <th>27 </th>\n",
       "      <td>  LH123HTxLH82</td>\n",
       "      <td> LH123HT</td>\n",
       "      <td>    LH82</td>\n",
       "    </tr>\n",
       "    <tr>\n",
       "      <th>28 </th>\n",
       "      <td>  LH123HTxMO17</td>\n",
       "      <td> LH123HT</td>\n",
       "      <td>    MO17</td>\n",
       "    </tr>\n",
       "    <tr>\n",
       "      <th>29 </th>\n",
       "      <td> LH123HTxPH207</td>\n",
       "      <td> LH123HT</td>\n",
       "      <td>   PH207</td>\n",
       "    </tr>\n",
       "    <tr>\n",
       "      <th>30 </th>\n",
       "      <td> LH123HTxPHG35</td>\n",
       "      <td> LH123HT</td>\n",
       "      <td>   PHG35</td>\n",
       "    </tr>\n",
       "    <tr>\n",
       "      <th>31 </th>\n",
       "      <td> LH123HTxPHG39</td>\n",
       "      <td> LH123HT</td>\n",
       "      <td>   PHG39</td>\n",
       "    </tr>\n",
       "    <tr>\n",
       "      <th>32 </th>\n",
       "      <td> LH123HTxPHG47</td>\n",
       "      <td> LH123HT</td>\n",
       "      <td>   PHG47</td>\n",
       "    </tr>\n",
       "    <tr>\n",
       "      <th>33 </th>\n",
       "      <td> LH123HTxPHG84</td>\n",
       "      <td> LH123HT</td>\n",
       "      <td>   PHG84</td>\n",
       "    </tr>\n",
       "    <tr>\n",
       "      <th>34 </th>\n",
       "      <td> LH123HTxPHJ40</td>\n",
       "      <td> LH123HT</td>\n",
       "      <td>   PHJ40</td>\n",
       "    </tr>\n",
       "    <tr>\n",
       "      <th>35 </th>\n",
       "      <td> LH123HTxPHZ51</td>\n",
       "      <td> LH123HT</td>\n",
       "      <td>   PHZ51</td>\n",
       "    </tr>\n",
       "    <tr>\n",
       "      <th>...</th>\n",
       "      <td>...</td>\n",
       "      <td>...</td>\n",
       "      <td>...</td>\n",
       "    </tr>\n",
       "    <tr>\n",
       "      <th>46 </th>\n",
       "      <td>    LH82xPHJ40</td>\n",
       "      <td>    LH82</td>\n",
       "      <td>   PHJ40</td>\n",
       "    </tr>\n",
       "    <tr>\n",
       "      <th>47 </th>\n",
       "      <td>    LH82xPHZ51</td>\n",
       "      <td>    LH82</td>\n",
       "      <td>   PHZ51</td>\n",
       "    </tr>\n",
       "    <tr>\n",
       "      <th>53 </th>\n",
       "      <td>    MO17xPH207</td>\n",
       "      <td>    MO17</td>\n",
       "      <td>   PH207</td>\n",
       "    </tr>\n",
       "    <tr>\n",
       "      <th>54 </th>\n",
       "      <td>    MO17xPHG35</td>\n",
       "      <td>    MO17</td>\n",
       "      <td>   PHG35</td>\n",
       "    </tr>\n",
       "    <tr>\n",
       "      <th>55 </th>\n",
       "      <td>    MO17xPHG39</td>\n",
       "      <td>    MO17</td>\n",
       "      <td>   PHG39</td>\n",
       "    </tr>\n",
       "    <tr>\n",
       "      <th>56 </th>\n",
       "      <td>    MO17xPHG47</td>\n",
       "      <td>    MO17</td>\n",
       "      <td>   PHG47</td>\n",
       "    </tr>\n",
       "    <tr>\n",
       "      <th>57 </th>\n",
       "      <td>    MO17xPHG84</td>\n",
       "      <td>    MO17</td>\n",
       "      <td>   PHG84</td>\n",
       "    </tr>\n",
       "    <tr>\n",
       "      <th>58 </th>\n",
       "      <td>    MO17xPHJ40</td>\n",
       "      <td>    MO17</td>\n",
       "      <td>   PHJ40</td>\n",
       "    </tr>\n",
       "    <tr>\n",
       "      <th>59 </th>\n",
       "      <td>    MO17xPHZ51</td>\n",
       "      <td>    MO17</td>\n",
       "      <td>   PHZ51</td>\n",
       "    </tr>\n",
       "    <tr>\n",
       "      <th>66 </th>\n",
       "      <td>   PH207xPHG35</td>\n",
       "      <td>   PH207</td>\n",
       "      <td>   PHG35</td>\n",
       "    </tr>\n",
       "    <tr>\n",
       "      <th>67 </th>\n",
       "      <td>   PH207xPHG39</td>\n",
       "      <td>   PH207</td>\n",
       "      <td>   PHG39</td>\n",
       "    </tr>\n",
       "    <tr>\n",
       "      <th>68 </th>\n",
       "      <td>   PH207xPHG47</td>\n",
       "      <td>   PH207</td>\n",
       "      <td>   PHG47</td>\n",
       "    </tr>\n",
       "    <tr>\n",
       "      <th>69 </th>\n",
       "      <td>   PH207xPHG84</td>\n",
       "      <td>   PH207</td>\n",
       "      <td>   PHG84</td>\n",
       "    </tr>\n",
       "    <tr>\n",
       "      <th>70 </th>\n",
       "      <td>   PH207xPHJ40</td>\n",
       "      <td>   PH207</td>\n",
       "      <td>   PHJ40</td>\n",
       "    </tr>\n",
       "    <tr>\n",
       "      <th>71 </th>\n",
       "      <td>   PH207xPHZ51</td>\n",
       "      <td>   PH207</td>\n",
       "      <td>   PHZ51</td>\n",
       "    </tr>\n",
       "    <tr>\n",
       "      <th>79 </th>\n",
       "      <td>   PHG35xPHG39</td>\n",
       "      <td>   PHG35</td>\n",
       "      <td>   PHG39</td>\n",
       "    </tr>\n",
       "    <tr>\n",
       "      <th>80 </th>\n",
       "      <td>   PHG35xPHG47</td>\n",
       "      <td>   PHG35</td>\n",
       "      <td>   PHG47</td>\n",
       "    </tr>\n",
       "    <tr>\n",
       "      <th>81 </th>\n",
       "      <td>   PHG35xPHG84</td>\n",
       "      <td>   PHG35</td>\n",
       "      <td>   PHG84</td>\n",
       "    </tr>\n",
       "    <tr>\n",
       "      <th>82 </th>\n",
       "      <td>   PHG35xPHJ40</td>\n",
       "      <td>   PHG35</td>\n",
       "      <td>   PHJ40</td>\n",
       "    </tr>\n",
       "    <tr>\n",
       "      <th>83 </th>\n",
       "      <td>   PHG35xPHZ51</td>\n",
       "      <td>   PHG35</td>\n",
       "      <td>   PHZ51</td>\n",
       "    </tr>\n",
       "    <tr>\n",
       "      <th>92 </th>\n",
       "      <td>   PHG39xPHG47</td>\n",
       "      <td>   PHG39</td>\n",
       "      <td>   PHG47</td>\n",
       "    </tr>\n",
       "    <tr>\n",
       "      <th>93 </th>\n",
       "      <td>   PHG39xPHG84</td>\n",
       "      <td>   PHG39</td>\n",
       "      <td>   PHG84</td>\n",
       "    </tr>\n",
       "    <tr>\n",
       "      <th>94 </th>\n",
       "      <td>   PHG39xPHJ40</td>\n",
       "      <td>   PHG39</td>\n",
       "      <td>   PHJ40</td>\n",
       "    </tr>\n",
       "    <tr>\n",
       "      <th>95 </th>\n",
       "      <td>   PHG39xPHZ51</td>\n",
       "      <td>   PHG39</td>\n",
       "      <td>   PHZ51</td>\n",
       "    </tr>\n",
       "    <tr>\n",
       "      <th>105</th>\n",
       "      <td>   PHG47xPHG84</td>\n",
       "      <td>   PHG47</td>\n",
       "      <td>   PHG84</td>\n",
       "    </tr>\n",
       "    <tr>\n",
       "      <th>106</th>\n",
       "      <td>   PHG47xPHJ40</td>\n",
       "      <td>   PHG47</td>\n",
       "      <td>   PHJ40</td>\n",
       "    </tr>\n",
       "    <tr>\n",
       "      <th>107</th>\n",
       "      <td>   PHG47xPHZ51</td>\n",
       "      <td>   PHG47</td>\n",
       "      <td>   PHZ51</td>\n",
       "    </tr>\n",
       "    <tr>\n",
       "      <th>118</th>\n",
       "      <td>   PHG84xPHJ40</td>\n",
       "      <td>   PHG84</td>\n",
       "      <td>   PHJ40</td>\n",
       "    </tr>\n",
       "    <tr>\n",
       "      <th>119</th>\n",
       "      <td>   PHG84xPHZ51</td>\n",
       "      <td>   PHG84</td>\n",
       "      <td>   PHZ51</td>\n",
       "    </tr>\n",
       "    <tr>\n",
       "      <th>131</th>\n",
       "      <td>   PHJ40xPHZ51</td>\n",
       "      <td>   PHJ40</td>\n",
       "      <td>   PHZ51</td>\n",
       "    </tr>\n",
       "  </tbody>\n",
       "</table>\n",
       "<p>66 rows × 3 columns</p>\n",
       "</div>"
      ],
      "text/plain": [
       "                F1       P1       P2\n",
       "1          B73xLH1      B73      LH1\n",
       "2      B73xLH123HT      B73  LH123HT\n",
       "3         B73xLH82      B73     LH82\n",
       "4         B73xMO17      B73     MO17\n",
       "5        B73xPH207      B73    PH207\n",
       "6        B73xPHG35      B73    PHG35\n",
       "7        B73xPHG39      B73    PHG39\n",
       "8        B73xPHG47      B73    PHG47\n",
       "9        B73xPHG84      B73    PHG84\n",
       "10       B73xPHJ40      B73    PHJ40\n",
       "11       B73xPHZ51      B73    PHZ51\n",
       "14     LH1xLH123HT      LH1  LH123HT\n",
       "15        LH1xLH82      LH1     LH82\n",
       "16        LH1xMO17      LH1     MO17\n",
       "17       LH1xPH207      LH1    PH207\n",
       "18       LH1xPHG35      LH1    PHG35\n",
       "19       LH1xPHG39      LH1    PHG39\n",
       "20       LH1xPHG47      LH1    PHG47\n",
       "21       LH1xPHG84      LH1    PHG84\n",
       "22       LH1xPHJ40      LH1    PHJ40\n",
       "23       LH1xPHZ51      LH1    PHZ51\n",
       "27    LH123HTxLH82  LH123HT     LH82\n",
       "28    LH123HTxMO17  LH123HT     MO17\n",
       "29   LH123HTxPH207  LH123HT    PH207\n",
       "30   LH123HTxPHG35  LH123HT    PHG35\n",
       "31   LH123HTxPHG39  LH123HT    PHG39\n",
       "32   LH123HTxPHG47  LH123HT    PHG47\n",
       "33   LH123HTxPHG84  LH123HT    PHG84\n",
       "34   LH123HTxPHJ40  LH123HT    PHJ40\n",
       "35   LH123HTxPHZ51  LH123HT    PHZ51\n",
       "..             ...      ...      ...\n",
       "46      LH82xPHJ40     LH82    PHJ40\n",
       "47      LH82xPHZ51     LH82    PHZ51\n",
       "53      MO17xPH207     MO17    PH207\n",
       "54      MO17xPHG35     MO17    PHG35\n",
       "55      MO17xPHG39     MO17    PHG39\n",
       "56      MO17xPHG47     MO17    PHG47\n",
       "57      MO17xPHG84     MO17    PHG84\n",
       "58      MO17xPHJ40     MO17    PHJ40\n",
       "59      MO17xPHZ51     MO17    PHZ51\n",
       "66     PH207xPHG35    PH207    PHG35\n",
       "67     PH207xPHG39    PH207    PHG39\n",
       "68     PH207xPHG47    PH207    PHG47\n",
       "69     PH207xPHG84    PH207    PHG84\n",
       "70     PH207xPHJ40    PH207    PHJ40\n",
       "71     PH207xPHZ51    PH207    PHZ51\n",
       "79     PHG35xPHG39    PHG35    PHG39\n",
       "80     PHG35xPHG47    PHG35    PHG47\n",
       "81     PHG35xPHG84    PHG35    PHG84\n",
       "82     PHG35xPHJ40    PHG35    PHJ40\n",
       "83     PHG35xPHZ51    PHG35    PHZ51\n",
       "92     PHG39xPHG47    PHG39    PHG47\n",
       "93     PHG39xPHG84    PHG39    PHG84\n",
       "94     PHG39xPHJ40    PHG39    PHJ40\n",
       "95     PHG39xPHZ51    PHG39    PHZ51\n",
       "105    PHG47xPHG84    PHG47    PHG84\n",
       "106    PHG47xPHJ40    PHG47    PHJ40\n",
       "107    PHG47xPHZ51    PHG47    PHZ51\n",
       "118    PHG84xPHJ40    PHG84    PHJ40\n",
       "119    PHG84xPHZ51    PHG84    PHZ51\n",
       "131    PHJ40xPHZ51    PHJ40    PHZ51\n",
       "\n",
       "[66 rows x 3 columns]"
      ]
     },
     "execution_count": 62,
     "metadata": {},
     "output_type": "execute_result"
    }
   ],
   "source": [
    "ped"
   ]
  },
  {
   "cell_type": "code",
   "execution_count": 63,
   "metadata": {
    "collapsed": false
   },
   "outputs": [
    {
     "data": {
      "text/plain": [
       "66"
      ]
     },
     "execution_count": 63,
     "metadata": {},
     "output_type": "execute_result"
    }
   ],
   "source": [
    "len(ped)"
   ]
  },
  {
   "cell_type": "code",
   "execution_count": null,
   "metadata": {
    "collapsed": true
   },
   "outputs": [],
   "source": []
  }
 ],
 "metadata": {
  "kernelspec": {
   "display_name": "Python 2",
   "language": "python",
   "name": "python2"
  },
  "language_info": {
   "codemirror_mode": {
    "name": "ipython",
    "version": 2
   },
   "file_extension": ".py",
   "mimetype": "text/x-python",
   "name": "python",
   "nbconvert_exporter": "python",
   "pygments_lexer": "ipython2",
   "version": "2.7.11"
  }
 },
 "nbformat": 4,
 "nbformat_minor": 0
}
